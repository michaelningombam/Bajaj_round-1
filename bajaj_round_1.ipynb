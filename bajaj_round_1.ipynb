{
  "nbformat": 4,
  "nbformat_minor": 0,
  "metadata": {
    "colab": {
      "provenance": []
    },
    "kernelspec": {
      "name": "python3",
      "display_name": "Python 3"
    },
    "language_info": {
      "name": "python"
    }
  },
  "cells": [
    {
      "cell_type": "code",
      "execution_count": 1,
      "metadata": {
        "colab": {
          "base_uri": "https://localhost:8080/"
        },
        "id": "osrNz3w0QqHf",
        "outputId": "6986544e-3977-4fdc-9b85-41737e52420d"
      },
      "outputs": [
        {
          "output_type": "stream",
          "name": "stdout",
          "text": [
            "        _id appointmentId  phoneNumber patientDetails._id  \\\n",
            "0  T6hf3rb5     40d2-9c9f  96686896670          T6hb630b3   \n",
            "1  T65g3rb5      40dbtc9f   9496368916          T6h33b300   \n",
            "2  T7g6Srb5      g3Wt5c9f   7787204833           TjhB4373   \n",
            "3  94bg8W8d      fb6-a535   9376756879            6df4R5b   \n",
            "4  T6h8H56c       67h7KL9   5267384241           lK9hy06a   \n",
            "\n",
            "  patientDetails.firstName patientDetails.lastName patientDetails.emailId  \\\n",
            "0                      Css                                                  \n",
            "1                   Lokesh                                                  \n",
            "2                    Shila                     Das                          \n",
            "3                  Bhavika             Ben Panchal                          \n",
            "4               Raghu Viju                                                  \n",
            "\n",
            "  patientDetails.gender patientDetails.alternateContact  \\\n",
            "0                                                         \n",
            "1                     M                             NaN   \n",
            "2                   NaN                             NaN   \n",
            "3                     F                             NaN   \n",
            "4                   NaN                                   \n",
            "\n",
            "   patientDetails.birthDate  ... consultationData.procedures  \\\n",
            "0                      None  ...                          []   \n",
            "1  1996-05-16T18:30:00.000Z  ...                          []   \n",
            "2                       NaN  ...                          []   \n",
            "3  1988-04-24T14:30:00.000Z  ...                          []   \n",
            "4                       NaN  ...                          []   \n",
            "\n",
            "  consultationData.prognosis consultationData.sharePrescription  \\\n",
            "0                         []                              False   \n",
            "1                         []                              False   \n",
            "2                         []                              False   \n",
            "3                         []                              False   \n",
            "4                         []                              False   \n",
            "\n",
            "  patientDetails.phrId patientDetails.chat._id patientDetails.customId  \\\n",
            "0                  NaN                     NaN                     NaN   \n",
            "1                  NaN                     NaN                     NaN   \n",
            "2         63b5hvy614d5                     NaN                     NaN   \n",
            "3             644nig7y                     NaN                     NaN   \n",
            "4                  NaN                     NaN                     NaN   \n",
            "\n",
            "  patientDetails.chat.channelId consultationData._id  \\\n",
            "0                           NaN                  NaN   \n",
            "1                           NaN                  NaN   \n",
            "2                           NaN                  NaN   \n",
            "3                           NaN                  NaN   \n",
            "4                           NaN                  NaN   \n",
            "\n",
            "  consultationData.updatedAt consultationData.createdAt  \n",
            "0                        NaN                        NaN  \n",
            "1                        NaN                        NaN  \n",
            "2                        NaN                        NaN  \n",
            "3                        NaN                        NaN  \n",
            "4                        NaN                        NaN  \n",
            "\n",
            "[5 rows x 43 columns]\n"
          ]
        }
      ],
      "source": [
        "import pandas as pd\n",
        "import json\n",
        "\n",
        "with open('/content/DataEngineeringQ2.json', 'r') as file:\n",
        "    data = json.load(file)\n",
        "\n",
        "df = pd.json_normalize(data)\n",
        "print(df.head())\n"
      ]
    },
    {
      "cell_type": "code",
      "source": [
        "# Extract medicines information and count active medicines\n",
        "df['active_medicines_count'] = df['consultationData.medicines'].apply(\n",
        "    lambda medicines: sum(1 for med in medicines if med['isActive'])\n",
        ")\n",
        "\n",
        "# Display the transformed data\n",
        "print(df[['patientDetails.firstName', 'patientDetails.lastName', 'active_medicines_count']])\n"
      ],
      "metadata": {
        "colab": {
          "base_uri": "https://localhost:8080/"
        },
        "id": "qPRxoYU8RMgV",
        "outputId": "3dc06306-ea76-413c-ba0f-6c42a19ef7c6"
      },
      "execution_count": 2,
      "outputs": [
        {
          "output_type": "stream",
          "name": "stdout",
          "text": [
            "    patientDetails.firstName patientDetails.lastName  active_medicines_count\n",
            "0                        Css                                               1\n",
            "1                     Lokesh                                               1\n",
            "2                      Shila                     Das                       2\n",
            "3                    Bhavika             Ben Panchal                       1\n",
            "4                 Raghu Viju                                               2\n",
            "5               Dinesh Kumar                                               2\n",
            "6                      Lalit                Sankhwal                       2\n",
            "7                       Ravi                                               1\n",
            "8                     Dinesh                                               1\n",
            "9                     Sanjay                                               0\n",
            "10                    Akshay                  Akshay                       0\n",
            "11                   Nirmala                                               2\n",
            "12                    Satish                                               0\n",
            "13                Kalaiarasi              Kalaiarasi                       2\n",
            "14              Satyanaaryan                                               0\n",
            "15                   Nivitha                                               3\n",
            "16                    Tejpal                                               2\n",
            "17                  Nandhini                                               2\n",
            "18                  Dhanamma                                               3\n",
            "19                    Kushal                                               0\n",
            "20                    Daniya                   Zehra                       0\n",
            "21                       Jay                  Sharma                       1\n",
            "22                   Preethi                                               3\n",
            "23  VITTHAL SHANKARRAO GHATE                                               3\n",
            "24                    Naresh                                               0\n",
            "25                    Suresh                 Gaikwad                       3\n",
            "26                 Govardhan                                               0\n",
            "27                Rajeshwari                                               2\n",
            "28                   Santosh                                               0\n",
            "29                 Tarachand                                               4\n",
            "30                       Jay                  Sharma                       3\n"
          ]
        }
      ]
    },
    {
      "cell_type": "code",
      "source": [
        "# Check for missing values in critical columns\n",
        "missing_values = df[['patientDetails.firstName', 'consultationData.medicines']].isnull().sum()\n",
        "print(missing_values)\n",
        "\n",
        "# Validate phone numbers to ensure they contain only digits and have a length of 10-15\n",
        "df['phoneNumber_valid'] = df['phoneNumber'].apply(lambda x: x.isdigit() and 10 <= len(x) <= 15)\n",
        "print(df[['phoneNumber', 'phoneNumber_valid']])\n"
      ],
      "metadata": {
        "colab": {
          "base_uri": "https://localhost:8080/"
        },
        "id": "R6KRjPVwRdnZ",
        "outputId": "3b7b6773-892e-4311-c584-8df0cc07b3a4"
      },
      "execution_count": 3,
      "outputs": [
        {
          "output_type": "stream",
          "name": "stdout",
          "text": [
            "patientDetails.firstName      0\n",
            "consultationData.medicines    0\n",
            "dtype: int64\n",
            "       phoneNumber  phoneNumber_valid\n",
            "0      96686896670               True\n",
            "1       9496368916               True\n",
            "2       7787204833               True\n",
            "3       9376756879               True\n",
            "4       5267384241               True\n",
            "5    +919826374025              False\n",
            "6       7587265252               True\n",
            "7       5586958767               True\n",
            "8       9987602525               True\n",
            "9       9234354366               True\n",
            "10      4863281056               True\n",
            "11      8687986800               True\n",
            "12                              False\n",
            "13      7152684236               True\n",
            "14                              False\n",
            "15      9184723620               True\n",
            "16                              False\n",
            "17      5847346075               True\n",
            "18      9064537237               True\n",
            "19                              False\n",
            "20       992727892              False\n",
            "21      6888324121               True\n",
            "22      8248594521               True\n",
            "23   +917938475936              False\n",
            "24  +9124648979746              False\n",
            "25   +916883788633              False\n",
            "26   +916636278363              False\n",
            "27      6525356535               True\n",
            "28                              False\n",
            "29   +919093872282              False\n",
            "30   +916888324121              False\n"
          ]
        }
      ]
    },
    {
      "cell_type": "code",
      "source": [
        "# Calculate the average number of medicines prescribed per patient\n",
        "df['total_medicines_count'] = df['consultationData.medicines'].apply(len)\n",
        "average_medicines_per_patient = df['total_medicines_count'].mean()\n",
        "print(f'Average number of medicines prescribed per patient: {average_medicines_per_patient:.2f}')\n"
      ],
      "metadata": {
        "colab": {
          "base_uri": "https://localhost:8080/"
        },
        "id": "iFXv1HryRiQy",
        "outputId": "d88ce45a-b282-46c2-bbcb-8565f6291548"
      },
      "execution_count": 4,
      "outputs": [
        {
          "output_type": "stream",
          "name": "stdout",
          "text": [
            "Average number of medicines prescribed per patient: 2.13\n"
          ]
        }
      ]
    },
    {
      "cell_type": "code",
      "source": [
        "\n",
        "\n",
        "# Calculate the percentage of missing values for specific columns\n",
        "columns_to_check = ['patientDetails.firstName', 'patientDetails.lastName', 'patientDetails.birthDate']\n",
        "missing_percentages = df[columns_to_check].isnull().mean() * 100\n",
        "\n",
        "print(missing_percentages)\n"
      ],
      "metadata": {
        "colab": {
          "base_uri": "https://localhost:8080/"
        },
        "id": "xncnnv8-SmvR",
        "outputId": "42b63edb-b963-423f-af88-2566b1ee5ade"
      },
      "execution_count": 5,
      "outputs": [
        {
          "output_type": "stream",
          "name": "stdout",
          "text": [
            "patientDetails.firstName     0.000000\n",
            "patientDetails.lastName      0.000000\n",
            "patientDetails.birthDate    32.258065\n",
            "dtype: float64\n"
          ]
        }
      ]
    },
    {
      "cell_type": "code",
      "source": [
        "# Replace empty strings with NaN\n",
        "df['patientDetails.gender'].replace('', pd.NA, inplace=True)\n",
        "\n",
        "# Calculate the mode of the gender column again\n",
        "gender_mode = df['patientDetails.gender'].mode()[0]\n",
        "\n",
        "# Fill missing values in the gender column with the mode\n",
        "df['patientDetails.gender'].fillna(gender_mode, inplace=True)\n",
        "\n",
        "# Calculate the percentage of female gender, considering 'F' as Female\n",
        "female_percentage = (df['patientDetails.gender'] == 'F').mean() * 100\n",
        "\n",
        "print(female_percentage)\n",
        "\n"
      ],
      "metadata": {
        "colab": {
          "base_uri": "https://localhost:8080/"
        },
        "id": "DBpQq2VfS2ri",
        "outputId": "06462e30-a4fd-40ed-f322-d3ea998412cb"
      },
      "execution_count": 7,
      "outputs": [
        {
          "output_type": "stream",
          "name": "stdout",
          "text": [
            "32.25806451612903\n"
          ]
        }
      ]
    },
    {
      "cell_type": "code",
      "source": [
        "import pandas as np\n",
        "\n",
        "# Convert birthDate to datetime\n",
        "df['patientDetails.birthDate'] = pd.to_datetime(df['patientDetails.birthDate'], errors='coerce')\n",
        "\n",
        "# Calculate age\n",
        "current_year = pd.to_datetime('now').year\n",
        "df['age'] = current_year - df['patientDetails.birthDate'].dt.year\n",
        "\n",
        "# Define age groups\n",
        "def categorize_age(age):\n",
        "    if age < 0:\n",
        "        return np.nan\n",
        "    elif age <= 12:\n",
        "        return 'Child'\n",
        "    elif age <= 19:\n",
        "        return 'Teen'\n",
        "    elif age <= 59:\n",
        "        return 'Adult'\n",
        "    else:\n",
        "        return 'Senior'\n",
        "\n",
        "# Apply the categorize_age function\n",
        "df['ageGroup'] = df['age'].apply(categorize_age)\n",
        "\n",
        "# Count the number of adults\n",
        "adult_count = df['ageGroup'].value_counts().get('Adult', 0)\n",
        "\n",
        "print(adult_count)\n"
      ],
      "metadata": {
        "colab": {
          "base_uri": "https://localhost:8080/"
        },
        "id": "hr1F6OFnU8po",
        "outputId": "8a6ad417-24db-4509-9065-f4d08d703452"
      },
      "execution_count": 8,
      "outputs": [
        {
          "output_type": "stream",
          "name": "stdout",
          "text": [
            "21\n"
          ]
        }
      ]
    },
    {
      "cell_type": "code",
      "source": [
        "\n",
        "# Calculate the total number of medicines prescribed for each patient\n",
        "df['total_medicines_count'] = df['consultationData.medicines'].apply(len)\n",
        "\n",
        "# Calculate the average number of medicines prescribed\n",
        "average_medicines_per_patient = df['total_medicines_count'].mean()\n",
        "\n",
        "print(f'Average number of medicines prescribed per patient: {average_medicines_per_patient:.2f}')\n"
      ],
      "metadata": {
        "colab": {
          "base_uri": "https://localhost:8080/"
        },
        "id": "PNMoztNfVbyl",
        "outputId": "2b59dadb-5285-4e1c-9c0b-1d392d8ca436"
      },
      "execution_count": 9,
      "outputs": [
        {
          "output_type": "stream",
          "name": "stdout",
          "text": [
            "Average number of medicines prescribed per patient: 2.13\n"
          ]
        }
      ]
    },
    {
      "cell_type": "code",
      "source": [
        "\n",
        "from collections import Counter\n",
        "\n",
        "# Normalize the JSON data into a flat table\n",
        "df = pd.json_normalize(data)\n",
        "\n",
        "# Extract all medicine names into a list\n",
        "all_medicine_names = []\n",
        "for medicines in df['consultationData.medicines']:\n",
        "    all_medicine_names.extend([medicine['medicineName'] for medicine in medicines])\n",
        "\n",
        "# Count the occurrences of each medicine name\n",
        "medicine_counter = Counter(all_medicine_names)\n",
        "\n",
        "# Find the 3rd most common medicine name\n",
        "third_most_common_medicine = medicine_counter.most_common(3)[2][0]\n",
        "\n",
        "print(third_most_common_medicine)\n"
      ],
      "metadata": {
        "colab": {
          "base_uri": "https://localhost:8080/"
        },
        "id": "F79yXe5hWHlX",
        "outputId": "537c0a8a-0084-42bd-dc01-55017aba8360"
      },
      "execution_count": 11,
      "outputs": [
        {
          "output_type": "stream",
          "name": "stdout",
          "text": [
            "C\n"
          ]
        }
      ]
    },
    {
      "cell_type": "code",
      "source": [
        "\n",
        "\n",
        "# Extract all medicine statuses into a list\n",
        "active_medicines_count = 0\n",
        "inactive_medicines_count = 0\n",
        "\n",
        "for medicines in df['consultationData.medicines']:\n",
        "    for medicine in medicines:\n",
        "        if medicine['isActive']:\n",
        "            active_medicines_count += 1\n",
        "        else:\n",
        "            inactive_medicines_count += 1\n",
        "\n",
        "# Calculate the total number of medicines\n",
        "total_medicines_count = active_medicines_count + inactive_medicines_count\n",
        "\n",
        "# Calculate the percentage distribution\n",
        "active_percentage = (active_medicines_count / total_medicines_count) * 100\n",
        "inactive_percentage = (inactive_medicines_count / total_medicines_count) * 100\n",
        "\n",
        "(active_percentage, inactive_percentage)\n"
      ],
      "metadata": {
        "colab": {
          "base_uri": "https://localhost:8080/"
        },
        "id": "s4yPBzOdWs_m",
        "outputId": "e5db7722-084b-4fdc-b76c-bc775f38269b"
      },
      "execution_count": 12,
      "outputs": [
        {
          "output_type": "execute_result",
          "data": {
            "text/plain": [
              "(69.6969696969697, 30.303030303030305)"
            ]
          },
          "metadata": {},
          "execution_count": 12
        }
      ]
    },
    {
      "cell_type": "code",
      "source": [
        "\n",
        "# Calculate the percentage of missing values for specific columns\n",
        "columns_to_check = ['patientDetails.firstName', 'patientDetails.lastName', 'patientDetails.birthDate']\n",
        "missing_percentages = df[columns_to_check].isnull().mean() * 100\n",
        "\n",
        "print(missing_percentages)\n"
      ],
      "metadata": {
        "colab": {
          "base_uri": "https://localhost:8080/"
        },
        "id": "bdLNSuv6XGVv",
        "outputId": "a30c2cde-5c10-4361-8dde-a603cbface49"
      },
      "execution_count": 13,
      "outputs": [
        {
          "output_type": "stream",
          "name": "stdout",
          "text": [
            "patientDetails.firstName     0.000000\n",
            "patientDetails.lastName      0.000000\n",
            "patientDetails.birthDate    32.258065\n",
            "dtype: float64\n"
          ]
        }
      ]
    }
  ]
}